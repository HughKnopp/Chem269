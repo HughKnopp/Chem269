{
 "cells": [
  {
   "attachments": {},
   "cell_type": "markdown",
   "metadata": {},
   "source": [
    "# Welcome to Chem269C - Intro to data analysis\n",
    "\n"
   ]
  },
  {
   "cell_type": "markdown",
   "metadata": {},
   "source": [
    "# Class overview\n"
   ]
  },
  {
   "attachments": {},
   "cell_type": "markdown",
   "metadata": {},
   "source": [
    " \n",
    "### You are all getting an A - relax and learn\n",
    "If you don't want to be here, that's fine. \n",
    "If you are here, bring your A-game, no distractions\n",
    "\n",
    "### Learn to control your AI / robot  \n",
    "\n",
    "### Learn to present data in a meaningful way (dataviz)\n",
    "\n",
    "### Learn statistics - Probabilistic statements. \n",
    "\n",
    "### Learn statistics - Finding patterns in the data. \n",
    "\n",
    "### Introduction to spatial gene expression datasets\n",
    "\n",
    "### Assignments - work in class\n",
    "\n",
    "### Last day - presentation marathon (2 slides per person, upload to google slides ahead of time)\n",
    "\n",
    "### Questions? \n"
   ]
  },
  {
   "attachments": {},
   "cell_type": "markdown",
   "metadata": {},
   "source": [
    "# Material\n",
    "\n"
   ]
  },
  {
   "attachments": {},
   "cell_type": "markdown",
   "metadata": {},
   "source": [
    "I organized the class into 7 notebooks, clone them from git and follow along during class. \n",
    "\n",
    "We will go over these notebooks together, it would take a few days. \n",
    "\n",
    "From when I'm done till Wed - work in class (I'll help :)\n",
    "\n",
    "Last day - speed presentations of key findings\n"
   ]
  },
  {
   "attachments": {},
   "cell_type": "markdown",
   "metadata": {},
   "source": [
    "### What are robots good for? a demonstration"
   ]
  },
  {
   "attachments": {},
   "cell_type": "markdown",
   "metadata": {},
   "source": [
    "<span style='color:orange'>create two variables x and y, x is a uniform random variable from 0-100 with 1000 items in it. y is a function of x with some added gaussian noise (slope=0.3, noise sigma  = 20). Plot as scatter plot with labels and everything</span>"
   ]
  },
  {
   "cell_type": "code",
   "execution_count": 10,
   "metadata": {},
   "outputs": [],
   "source": [
    "#cmd-K\n",
    "\n"
   ]
  },
  {
   "attachments": {},
   "cell_type": "markdown",
   "metadata": {},
   "source": [
    "<span style='color:orange'>repeat the code above for six values of sigma (10,20,30,60,100,150) and create a 2 by 3 subplots showing this data with the value of sig in the title</span>\n"
   ]
  },
  {
   "cell_type": "code",
   "execution_count": 12,
   "metadata": {},
   "outputs": [],
   "source": [
    "#cmd-K\n"
   ]
  },
  {
   "attachments": {},
   "cell_type": "markdown",
   "metadata": {},
   "source": [
    "In the chat (ctrl-L) ask the following: \n",
    "\n",
    "<span style='color:orange'>What statistcal analysis would you recommend to estimate the spread of the values of Y around X taking into account the trendline?</span> \n",
    "\n",
    "Copy the code and see that it makes sense. \n"
   ]
  },
  {
   "cell_type": "code",
   "execution_count": null,
   "metadata": {},
   "outputs": [],
   "source": [
    "#cmd-K"
   ]
  },
  {
   "attachments": {},
   "cell_type": "markdown",
   "metadata": {},
   "source": [
    "If you are unsure, ask the robot for clarification in the chat (right side panel cmd-L). For example:\n",
    "\n",
    "<span style='color:orange'>explain what the stats.linregress is doing, I don't know what regression is.</span>"
   ]
  },
  {
   "attachments": {},
   "cell_type": "markdown",
   "metadata": {},
   "source": [
    "Now ask your robot to: \n",
    "\n",
    "<span style='color:orange'> repeat the regression analysis with decreasing sample sizes (from 2 to 1000) and in each case estimate sigma, create a plot of the error in sigma as a function of sample size</span>"
   ]
  },
  {
   "cell_type": "code",
   "execution_count": null,
   "metadata": {},
   "outputs": [],
   "source": [
    "#cmd-K"
   ]
  },
  {
   "attachments": {},
   "cell_type": "markdown",
   "metadata": {},
   "source": [
    "### Mistakes: \n",
    "Your robot can make mistakes, or perhaps you made a mistake and now you have an error. Try to ask the robot for help: \n"
   ]
  },
  {
   "cell_type": "code",
   "execution_count": 13,
   "metadata": {},
   "outputs": [
    {
     "ename": "SyntaxError",
     "evalue": "closing parenthesis ']' does not match opening parenthesis '(' (3320223313.py, line 2)",
     "output_type": "error",
     "traceback": [
      "\u001b[0;36m  Cell \u001b[0;32mIn[13], line 2\u001b[0;36m\u001b[0m\n\u001b[0;31m    a = np.array(1, 2, 3])\u001b[0m\n\u001b[0m                        ^\u001b[0m\n\u001b[0;31mSyntaxError\u001b[0m\u001b[0;31m:\u001b[0m closing parenthesis ']' does not match opening parenthesis '('\n"
     ]
    }
   ],
   "source": [
    "import numpy as np\n",
    "a = np.array(1, 2, 3])\n",
    "print(a)"
   ]
  },
  {
   "attachments": {},
   "cell_type": "markdown",
   "metadata": {},
   "source": [
    "## Summary - you don't need to learn how to code, you need to learn how to:\n",
    "\n",
    "1. Ask questions!\n",
    "\n",
    "2. Parse the answer - critical thinking - does this make sense! "
   ]
  }
 ],
 "metadata": {
  "kernelspec": {
   "display_name": "Python 3",
   "language": "python",
   "name": "python3"
  },
  "language_info": {
   "codemirror_mode": {
    "name": "ipython",
    "version": 3
   },
   "file_extension": ".py",
   "mimetype": "text/x-python",
   "name": "python",
   "nbconvert_exporter": "python",
   "pygments_lexer": "ipython3",
   "version": "3.11.6"
  },
  "orig_nbformat": 4
 },
 "nbformat": 4,
 "nbformat_minor": 2
}
